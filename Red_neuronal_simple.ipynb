{
  "nbformat": 4,
  "nbformat_minor": 0,
  "metadata": {
    "colab": {
      "name": "Red_neuronal_simple.ipynb",
      "provenance": [],
      "authorship_tag": "ABX9TyNH8ldeiViyUoscT8VQw6w0"
    },
    "kernelspec": {
      "name": "python3",
      "display_name": "Python 3"
    },
    "language_info": {
      "name": "python"
    }
  },
  "cells": [
    {
      "cell_type": "code",
      "execution_count": 2,
      "metadata": {
        "id": "wWVCZZGsfjy8"
      },
      "outputs": [],
      "source": [
        "#Prueba red pasar Celsius a Fahrenheit\n",
        "\n",
        "import tensorflow as tf \n",
        "import numpy as np"
      ]
    },
    {
      "cell_type": "code",
      "source": [
        "#Ejemplos para el modelo\n",
        "celsius = np.array([-40, -10, 0, 8, 15, 22, 38], dtype = float)\n",
        "fahrenheit = np.array([-40,14,32,46,59,72,100], dtype = float)"
      ],
      "metadata": {
        "id": "HcE9iHWnhfL0"
      },
      "execution_count": 4,
      "outputs": []
    },
    {
      "cell_type": "code",
      "source": [
        "#capa = tf.keras.layers.Dense(units = 1, input_shape=[1]) \n",
        "#modelo = tf.keras.Sequential([capa]) \n",
        "#Agregamos más neuronas!-->\n",
        "oculta1 = tf.keras.layers.Dense(units = 3, input_shape=[1])\n",
        "oculta2 = tf.keras.layers.Dense(units = 3)\n",
        "salida = tf.keras.layers.Dense(units = 1)\n",
        "modelo = tf.keras.Sequential([oculta1, oculta2, salida])\n"
      ],
      "metadata": {
        "id": "9Fr1Fx3Th5ze"
      },
      "execution_count": 13,
      "outputs": []
    },
    {
      "cell_type": "code",
      "source": [
        "#Optimizador y función de pérdida.\n",
        "\n",
        "modelo.compile(\n",
        "    optimizer = tf.keras.optimizers.Adam(0.1),\n",
        "    loss = \"mean_squared_error\"\n",
        "  \n",
        ").   #Modelo compilador"
      ],
      "metadata": {
        "id": "efXNr8AfiMqI"
      },
      "execution_count": 14,
      "outputs": []
    },
    {
      "cell_type": "code",
      "source": [
        "print(\"Comenzamos el Train!\"). #Entrenamiento\n",
        "historial = modelo.fit(celsius, fahrenheit,epochs = 1000, verbose = False)\n",
        "print(\"Modelo Entrenado!\")\n"
      ],
      "metadata": {
        "colab": {
          "base_uri": "https://localhost:8080/"
        },
        "id": "KvukLz7qifU8",
        "outputId": "54384a82-6a45-440b-d929-a67f56c25fc8"
      },
      "execution_count": 15,
      "outputs": [
        {
          "output_type": "stream",
          "name": "stdout",
          "text": [
            "Comenzamos el Train!\n",
            "Modelo Entrenado!\n"
          ]
        }
      ]
    },
    {
      "cell_type": "code",
      "source": [
        "import matplotlib.pyplot as plt.   #Función de pérdida\n",
        "plt.xlabel(\"#Epoca\")\n",
        "plt.ylabel(\"Magnitud de pérdida\")\n",
        "plt.plot(historial.history[\"loss\"])"
      ],
      "metadata": {
        "colab": {
          "base_uri": "https://localhost:8080/",
          "height": 296
        },
        "id": "wZMlpQojism-",
        "outputId": "1e9dc7e5-ca2a-402c-9018-d704fac536c0"
      },
      "execution_count": 16,
      "outputs": [
        {
          "output_type": "execute_result",
          "data": {
            "text/plain": [
              "[<matplotlib.lines.Line2D at 0x7f4209dc0a50>]"
            ]
          },
          "metadata": {},
          "execution_count": 16
        },
        {
          "output_type": "display_data",
          "data": {
            "text/plain": [
              "<Figure size 432x288 with 1 Axes>"
            ],
            "image/png": "[encoded data removed]"
          },
          "metadata": {
            "needs_background": "light"
          }
        }
      ]
    },
    {
      "cell_type": "code",
      "source": [
        "print(\"Predicción;\") #Resultado!\n",
        "resultado = modelo.predict([100.0])\n",
        "print(\"El resultado es\" + str(resultado) + \"Fahrenheit!\")"
      ],
      "metadata": {
        "colab": {
          "base_uri": "https://localhost:8080/"
        },
        "id": "vvyqKTOri6-D",
        "outputId": "b045dd84-a630-4832-d8eb-8671b9cb9508"
      },
      "execution_count": 17,
      "outputs": [
        {
          "output_type": "stream",
          "name": "stdout",
          "text": [
            "Predicción;\n",
            "El resultado es[[211.7461]]Fahrenheit!\n"
          ]
        }
      ]
    },
    {
      "cell_type": "code",
      "source": [
        "print(\"Variables internas del modelo\")\n",
        "#print(capa.get_weights())\n",
        "print(oculta1.get_weights())\n",
        "print(oculta2.get_weights())\n",
        "print(salida.get_weights())"
      ],
      "metadata": {
        "colab": {
          "base_uri": "https://localhost:8080/"
        },
        "id": "d1zzYThOjT8m",
        "outputId": "4dea097d-72f0-4cd4-fc7f-fe926bb77ece"
      },
      "execution_count": 19,
      "outputs": [
        {
          "output_type": "stream",
          "name": "stdout",
          "text": [
            "Variables internas del modelo\n",
            "[array([[-0.4832061 ,  0.6231806 , -0.23486646]], dtype=float32), array([-3.8453746 ,  3.8094995 , -0.34090185], dtype=float32)]\n",
            "[array([[ 1.2852786 , -0.2446478 , -0.549638  ],\n",
            "       [-0.34547478, -0.04187156,  0.59062386],\n",
            "       [-0.35334942,  0.4482745 , -0.18186203]], dtype=float32), array([-3.8666735,  3.7954538,  3.8437128], dtype=float32)]\n",
            "[array([[-1.2244016],\n",
            "       [ 1.1519691],\n",
            "       [ 1.3168691]], dtype=float32), array([3.7170296], dtype=float32)]\n"
          ]
        }
      ]
    },
    {
      "cell_type": "code",
      "source": [
        "\n"
      ],
      "metadata": {
        "id": "OvnSTm8AjiN5"
      },
      "execution_count": null,
      "outputs": []
    }
  ]
}